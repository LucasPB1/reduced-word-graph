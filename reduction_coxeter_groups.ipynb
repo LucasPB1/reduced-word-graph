{
 "cells": [
  {
   "cell_type": "code",
   "execution_count": 2,
   "id": "94b07fd9",
   "metadata": {},
   "outputs": [],
   "source": [
    "# author : Lucas POUILLART\n",
    "\n",
    "# On va commencer par redéfinir la fonction de réduction pour les groupes de Weyl, afin de l'appliquer\n",
    "# aux groupes de Coxeter en général :\n",
    "\n",
    "# On utilise le fait que dans sage, la fonction roots() renvoie une liste contenant d'abord les racines\n",
    "# positives puis les négatives\n",
    "def longueur(sigma, W) :\n",
    "    pi = W.positive_roots()\n",
    "    minus_pi = W.roots()[len(pi):]\n",
    "    res = [] #liste qui contiendra l'intersection de pi et de sigma ^-1 (-pi)\n",
    "    #boucle qui teste pour tout alpha dans pi si sigma(alpha) dans minus_pi, et si oui l'ajoute à res\n",
    "    for alpha in range(len(pi)) :\n",
    "        beta = W.roots()[sigma.action_on_root_indices(alpha)]\n",
    "        if beta in minus_pi :\n",
    "            res += [alpha]\n",
    "    return len(res)"
   ]
  },
  {
   "cell_type": "code",
   "execution_count": 3,
   "id": "343c5b1f",
   "metadata": {},
   "outputs": [
    {
     "name": "stdout",
     "output_type": "stream",
     "text": [
      "1\n",
      "[-1  1]\n",
      "[ 0  1]\n",
      "[ 1  0]\n",
      "[ 1 -1]\n",
      "[ 1  0]\n",
      "[ 1 -1]\n"
     ]
    }
   ],
   "source": [
    "W = CoxeterGroup(['A',2])\n",
    "S = W.gens()\n",
    "w = S[0]*S[1]*S[0]*S[1]*S[0]\n",
    "print(longueur(w,W))\n",
    "print(S[0])\n",
    "print(S[1])\n",
    "print(w)"
   ]
  },
  {
   "cell_type": "code",
   "execution_count": 4,
   "id": "9117c717",
   "metadata": {},
   "outputs": [],
   "source": [
    "def associate_root2(sigma,W): # Pour sigma reflexion, renvoie la racine positive qui lui est associée\n",
    "    for alpha in range(len(W.positive_roots())):\n",
    "        if W.roots()[sigma.action_on_root_indices(alpha)] == - W.positive_roots()[alpha] :\n",
    "            return W.positive_roots()[alpha]\n",
    "    return -1\n",
    "\n",
    "def associate_root(sigma,W): # Pour sigma reflexion, renvoie l'indice de la racine positive qui lui est associée\n",
    "    n = len(W.positive_roots())\n",
    "    for alpha in range(n):\n",
    "        k = sigma.action_on_root_indices(alpha)\n",
    "        if W.roots()[k] == - W.positive_roots()[alpha] :\n",
    "            return k - n\n",
    "    return -1"
   ]
  },
  {
   "cell_type": "code",
   "execution_count": 5,
   "id": "3b746b08",
   "metadata": {},
   "outputs": [
    {
     "name": "stdout",
     "output_type": "stream",
     "text": [
      "0\n",
      "1\n",
      "2\n",
      "3\n",
      "4\n",
      "5\n",
      "6\n",
      "7\n",
      "8\n",
      "9\n",
      "10\n",
      "11\n",
      "12\n",
      "13\n",
      "14\n",
      "15\n",
      "16\n",
      "17\n",
      "18\n",
      "19\n",
      "20\n",
      "21\n",
      "22\n",
      "23\n",
      "24\n",
      "25\n",
      "26\n",
      "27\n",
      "28\n",
      "29\n",
      "30\n",
      "31\n",
      "32\n",
      "33\n",
      "34\n",
      "35\n"
     ]
    }
   ],
   "source": [
    "W = CoxeterGroup(['A',8], implementation = 'permutation')\n",
    "for s in W.reflections():\n",
    "    print(associate_root(s,W))"
   ]
  },
  {
   "cell_type": "code",
   "execution_count": 6,
   "id": "fe57fa8e",
   "metadata": {},
   "outputs": [],
   "source": [
    "# On écrit une fonction permettant la construction des\n",
    "# applications partielles sigma[i+1] ... sigma[j-1]\n",
    "def constructPartialSigma(sigma, i, j, W):\n",
    "    w = W.one()\n",
    "    for s in sigma[i+1:j]:\n",
    "        w = w * s\n",
    "    return w"
   ]
  },
  {
   "cell_type": "code",
   "execution_count": 8,
   "id": "4cd3b7b3",
   "metadata": {},
   "outputs": [
    {
     "name": "stdout",
     "output_type": "stream",
     "text": [
      "[-1  1  0]\n",
      "[ 0  1  0]\n",
      "[ 0  0  1]\n",
      " \n",
      "[ 1  0  0]\n",
      "[ 1 -1  1]\n",
      "[ 0  0  1]\n",
      " \n",
      "[ 1  0  0]\n",
      "[ 0  1  0]\n",
      "[ 0  1 -1]\n",
      " \n",
      "[ 0  0 -1]\n",
      "[ 1  0 -1]\n",
      "[ 0  1 -1]\n",
      " \n",
      "[ 0  0 -1]\n",
      "[ 1  0 -1]\n",
      "[ 0  1 -1]\n"
     ]
    }
   ],
   "source": [
    "W = CoxeterGroup(['A',3])\n",
    "a,b,c = W.gens()\n",
    "sigma = [a,b,a,b,c,b,a,b,c,a]\n",
    "print(a)\n",
    "print(\" \")\n",
    "print(b)\n",
    "print(\" \")\n",
    "print(c)\n",
    "print(\" \")\n",
    "print(a*b*c)\n",
    "print(\" \")\n",
    "print(constructPartialSigma(sigma, 1, 5, W))"
   ]
  },
  {
   "cell_type": "code",
   "execution_count": 9,
   "id": "65b2879a",
   "metadata": {},
   "outputs": [],
   "source": [
    "# On adapte la fonction de réduction du mot aux groupes de Coxeter en général\n",
    "# ce qu'on justifie par le fait que tout groupe de Coxeter admet une représentation\n",
    "# fidèle comme groupe de réflexions réel\n",
    "\n",
    "def reduction(sigma,W) :\n",
    "    w = W.one()\n",
    "    b = False\n",
    "    sigma2 = sigma.copy()\n",
    "    for s in sigma :\n",
    "        w = w * s\n",
    "    l = longueur(w,W)\n",
    "    while len(sigma2) > l :\n",
    "        j = 1\n",
    "        while j < len(sigma2) and not(b):\n",
    "            alpha = associate_root(sigma2[j],W)\n",
    "            i = 0\n",
    "            while i < j and not(b):\n",
    "                w = constructPartialSigma(sigma2, i, j, W)\n",
    "                alphaI = w.action_on_root_indices(alpha)\n",
    "                if associate_root(sigma2[i],W) == alphaI:\n",
    "                    del(sigma2[j])\n",
    "                    del(sigma2[i])\n",
    "                    b = True\n",
    "                i += 1\n",
    "            j += 1\n",
    "        b = False\n",
    "    return sigma2"
   ]
  },
  {
   "cell_type": "code",
   "execution_count": 13,
   "id": "2c4cee19",
   "metadata": {},
   "outputs": [
    {
     "name": "stdout",
     "output_type": "stream",
     "text": [
      "[[ 1  0  0]\n",
      "[ 0  1  0]\n",
      "[ 0  1 -1], [ 1  0  0]\n",
      "[ 1 -1  1]\n",
      "[ 0  0  1]]\n",
      "True\n"
     ]
    }
   ],
   "source": [
    "print(reduction(sigma,W))\n",
    "print(c*b == a*b*a*b*c*b*a*b*c*a)"
   ]
  }
 ],
 "metadata": {
  "kernelspec": {
   "display_name": "SageMath 10.0",
   "language": "sage",
   "name": "sagemath"
  },
  "language_info": {
   "codemirror_mode": {
    "name": "ipython",
    "version": 3
   },
   "file_extension": ".py",
   "mimetype": "text/x-python",
   "name": "python",
   "nbconvert_exporter": "python",
   "pygments_lexer": "ipython3",
   "version": "3.11.5"
  }
 },
 "nbformat": 4,
 "nbformat_minor": 5
}

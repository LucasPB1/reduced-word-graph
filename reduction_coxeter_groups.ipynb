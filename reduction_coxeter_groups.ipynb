{
 "cells": [
  {
   "cell_type": "code",
   "execution_count": 66,
   "id": "94b07fd9",
   "metadata": {},
   "outputs": [],
   "source": [
    "# author : Lucas POUILLART\n",
    "\n",
    "# On va commencer par redéfinir la fonction de réduction pour les groupes de Weyl, afin de l'appliquer\n",
    "# aux groupes de Coxeter en général :\n",
    "\n",
    "# On utilise le fait que dans sage, la fonction roots() renvoie une liste contenant d'abord les racines\n",
    "# positives puis les négatives\n",
    "def longueur(sigma, W) :\n",
    "    pi = W.positive_roots()\n",
    "    minus_pi = W.roots()[len(pi):]\n",
    "    res = [] #liste qui contiendra l'intersection de pi et de sigma ^-1 (-pi)\n",
    "    #boucle qui teste pour tout alpha dans pi si sigma(alpha) dans minus_pi, et si oui l'ajoute à res\n",
    "    for alpha in range(len(pi)) :\n",
    "        beta = W.roots()[sigma.action_on_root_indices(alpha)]\n",
    "        if beta in minus_pi :\n",
    "            res += [alpha]\n",
    "    return len(res)"
   ]
  },
  {
   "cell_type": "code",
   "execution_count": 69,
   "id": "343c5b1f",
   "metadata": {},
   "outputs": [
    {
     "name": "stdout",
     "output_type": "stream",
     "text": [
      "((-1, 0), (-1, -1), (0, -1))\n",
      "1\n",
      "[-1  1]\n",
      "[ 0  1]\n",
      "[ 1  0]\n",
      "[ 1 -1]\n",
      "[ 1  0]\n",
      "[ 1 -1]\n"
     ]
    }
   ],
   "source": [
    "W = CoxeterGroup(['A',2])\n",
    "S = W.gens()\n",
    "w = S[0]*S[1]*S[0]*S[1]*S[0]\n",
    "print(longueur(w,W))\n",
    "print(S[0])\n",
    "print(S[1])\n",
    "print(w)"
   ]
  },
  {
   "cell_type": "code",
   "execution_count": null,
   "id": "9117c717",
   "metadata": {},
   "outputs": [],
   "source": []
  }
 ],
 "metadata": {
  "kernelspec": {
   "display_name": "SageMath 10.0",
   "language": "sage",
   "name": "sagemath"
  },
  "language_info": {
   "codemirror_mode": {
    "name": "ipython",
    "version": 3
   },
   "file_extension": ".py",
   "mimetype": "text/x-python",
   "name": "python",
   "nbconvert_exporter": "python",
   "pygments_lexer": "ipython3",
   "version": "3.11.5"
  }
 },
 "nbformat": 4,
 "nbformat_minor": 5
}
